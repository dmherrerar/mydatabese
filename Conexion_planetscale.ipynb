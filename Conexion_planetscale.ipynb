{
  "nbformat": 4,
  "nbformat_minor": 0,
  "metadata": {
    "colab": {
      "name": "Conexion planetscale",
      "provenance": [],
      "authorship_tag": "ABX9TyM+PhDCbQih1ZWKEVl3hlBe",
      "include_colab_link": true
    },
    "kernelspec": {
      "name": "python3",
      "display_name": "Python 3"
    },
    "language_info": {
      "name": "python"
    }
  },
  "cells": [
    {
      "cell_type": "markdown",
      "metadata": {
        "id": "view-in-github",
        "colab_type": "text"
      },
      "source": [
        "<a href=\"https://colab.research.google.com/github/dmherrerar/mydatabese/blob/main/Conexion_planetscale.ipynb\" target=\"_parent\"><img src=\"https://colab.research.google.com/assets/colab-badge.svg\" alt=\"Open In Colab\"/></a>"
      ]
    },
    {
      "cell_type": "code",
      "execution_count": 3,
      "metadata": {
        "colab": {
          "base_uri": "https://localhost:8080/"
        },
        "id": "SwZlvGEK_KtF",
        "outputId": "5e5e0883-3822-4183-d684-bb1b4ae07fe6"
      },
      "outputs": [
        {
          "output_type": "stream",
          "name": "stdout",
          "text": [
            "Looking in indexes: https://pypi.org/simple, https://us-python.pkg.dev/colab-wheels/public/simple/\n",
            "Collecting mysql-connector-python\n",
            "  Downloading mysql_connector_python-8.0.30-cp37-cp37m-manylinux1_x86_64.whl (25.4 MB)\n",
            "\u001b[K     |████████████████████████████████| 25.4 MB 1.5 MB/s \n",
            "\u001b[?25hRequirement already satisfied: protobuf<=3.20.1,>=3.11.0 in /usr/local/lib/python3.7/dist-packages (from mysql-connector-python) (3.17.3)\n",
            "Requirement already satisfied: six>=1.9 in /usr/local/lib/python3.7/dist-packages (from protobuf<=3.20.1,>=3.11.0->mysql-connector-python) (1.15.0)\n",
            "Installing collected packages: mysql-connector-python\n",
            "Successfully installed mysql-connector-python-8.0.30\n"
          ]
        }
      ],
      "source": [
        "pip install mysql-connector-python"
      ]
    },
    {
      "cell_type": "code",
      "source": [
        "pip install python-dotenv mysqlclient"
      ],
      "metadata": {
        "colab": {
          "base_uri": "https://localhost:8080/"
        },
        "id": "U3CKxcCaBJv6",
        "outputId": "b65c25e9-54e1-4bd5-d328-4474c724e0b1"
      },
      "execution_count": 4,
      "outputs": [
        {
          "output_type": "stream",
          "name": "stdout",
          "text": [
            "Looking in indexes: https://pypi.org/simple, https://us-python.pkg.dev/colab-wheels/public/simple/\n",
            "Collecting python-dotenv\n",
            "  Downloading python_dotenv-0.20.0-py3-none-any.whl (17 kB)\n",
            "Collecting mysqlclient\n",
            "  Downloading mysqlclient-2.1.1.tar.gz (88 kB)\n",
            "\u001b[K     |████████████████████████████████| 88 kB 3.7 MB/s \n",
            "\u001b[?25hBuilding wheels for collected packages: mysqlclient\n",
            "  Building wheel for mysqlclient (setup.py) ... \u001b[?25l\u001b[?25hdone\n",
            "  Created wheel for mysqlclient: filename=mysqlclient-2.1.1-cp37-cp37m-linux_x86_64.whl size=99975 sha256=56b65e26effab609f066af64feee1ac2a12f4af6d1262bff18e9405e8a690f33\n",
            "  Stored in directory: /root/.cache/pip/wheels/95/2d/67/2cb3f82e435fc8e055cb2761a15a0812bf086068f6fb835462\n",
            "Successfully built mysqlclient\n",
            "Installing collected packages: python-dotenv, mysqlclient\n",
            "Successfully installed mysqlclient-2.1.1 python-dotenv-0.20.0\n"
          ]
        }
      ]
    },
    {
      "cell_type": "code",
      "source": [
        "HOST=us-east.connect.psdb.cloud\n",
        "USERNAME=y9fmsgiu0jediy8mjmed\n",
        "PASSWORD=pscale_pw_OuVuWrIgXrBz9Xc9Iy7WkF7elCvgVLaemr090kLW8bI\n",
        "DATABASE=mydatabase"
      ],
      "metadata": {
        "id": "6BcejFQYBO2B"
      },
      "execution_count": null,
      "outputs": []
    },
    {
      "cell_type": "code",
      "source": [
        "import mysql.connector\n",
        "\n",
        "mydb = mysql.connector.connect(\n",
        "  host=\"us-east.connect.psdb.cloud\",\n",
        "  user=\"y9fmsgiu0jediy8mjmed\",\n",
        "  password=\"pscale_pw_OuVuWrIgXrBz9Xc9Iy7WkF7elCvgVLaemr090kLW8bI\",\n",
        "  database=\"mydatabase\"\n",
        ")"
      ],
      "metadata": {
        "id": "0WTq_Ou0B1Lq"
      },
      "execution_count": 6,
      "outputs": []
    },
    {
      "cell_type": "code",
      "source": [
        "import mysql.connector\n",
        "\n",
        "mydb = mysql.connector.connect(\n",
        " host=\"us-east.connect.psdb.cloud\",\n",
        "  user=\"y9fmsgiu0jediy8mjmed\",\n",
        "  password=\"pscale_pw_OuVuWrIgXrBz9Xc9Iy7WkF7elCvgVLaemr090kLW8bI\",\n",
        "  database=\"mydatabase\"\n",
        ")\n",
        "\n",
        "mycursor = mydb.cursor()\n",
        "\n",
        "mycursor.execute(\"CREATE TABLE customers (name VARCHAR(255), address VARCHAR(255))\")\n"
      ],
      "metadata": {
        "id": "6OuwfYR_Ee0y"
      },
      "execution_count": 7,
      "outputs": []
    },
    {
      "cell_type": "code",
      "source": [
        "import mysql.connector\n",
        "\n",
        "mydb = mysql.connector.connect(\n",
        " host=\"us-east.connect.psdb.cloud\",\n",
        "  user=\"y9fmsgiu0jediy8mjmed\",\n",
        "  password=\"pscale_pw_OuVuWrIgXrBz9Xc9Iy7WkF7elCvgVLaemr090kLW8bI\",\n",
        "  database=\"mydatabase\"\n",
        ")\n",
        "mycursor = mydb.cursor()\n",
        "\n",
        "sql = \"INSERT INTO customers (name, address) VALUES (%s, %s)\"\n",
        "val = (\"John\", \"Highway 21\")\n",
        "mycursor.execute(sql, val)\n",
        "\n",
        "mydb.commit()\n",
        "\n",
        "print(mycursor.rowcount, \"record inserted.\")"
      ],
      "metadata": {
        "colab": {
          "base_uri": "https://localhost:8080/"
        },
        "id": "Y4M1hO65F6X5",
        "outputId": "1bd5146e-41e5-498b-c913-e33242e8dbf2"
      },
      "execution_count": 9,
      "outputs": [
        {
          "output_type": "stream",
          "name": "stdout",
          "text": [
            "1 record inserted.\n"
          ]
        }
      ]
    }
  ]
}